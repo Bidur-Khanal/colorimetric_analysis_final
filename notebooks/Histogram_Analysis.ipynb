{
 "cells": [
  {
   "cell_type": "markdown",
   "metadata": {},
   "source": [
    "### Sample code to peform histogram analysis on the RGB channels of various assay images ###"
   ]
  },
  {
   "cell_type": "code",
   "execution_count": 1,
   "metadata": {},
   "outputs": [],
   "source": [
    "import cv2\n",
    "import numpy as np\n",
    "from matplotlib import pyplot as plt\n",
    "import pandas as pd\n",
    "from sklearn.linear_model import LinearRegression, RANSACRegressor\n",
    "from sklearn.metrics import mean_squared_error,r2_score\n",
    "from sklearn.model_selection import StratifiedKFold, KFold,ShuffleSplit\n",
    "from sklearn.preprocessing import PolynomialFeatures\n",
    "from sklearn.ensemble import GradientBoostingRegressor\n",
    "from sklearn.ensemble import RandomForestRegressor\n",
    "from sklearn import linear_model"
   ]
  },
  {
   "cell_type": "code",
   "execution_count": 3,
   "metadata": {},
   "outputs": [],
   "source": [
    "def segment_image (image):\n",
    "    \n",
    "    image_for_plot= np.copy(image)\n",
    "    #image = cv2.medianBlur(image,5)\n",
    "    gray = cv2.cvtColor(image, cv2.COLOR_BGR2GRAY)\n",
    "    gray_mean= np.mean(gray)\n",
    "    print (gray_mean)\n",
    "\n",
    "    #formula to choose right lower binary threshold, self-estimated formula after observance \n",
    "    # T= 0.8I-30\n",
    "    lower_th= 0.8*gray_mean-30\n",
    "\n",
    "    ret2,th2 = cv2.threshold(gray,lower_th,255,cv2.THRESH_BINARY)\n",
    "\n",
    "    kernel = np.ones((5,5),np.uint8)\n",
    "    th2 = cv2.morphologyEx(th2, cv2.MORPH_CLOSE, kernel)\n",
    "\n",
    "    # find the contour \n",
    "    contours= cv2.findContours(th2,cv2.RETR_CCOMP,cv2.CHAIN_APPROX_NONE)\n",
    "    cnts = contours[1] if cv2.__version__.startswith('3') else contours[0]\n",
    "    rectangles = []\n",
    "    circles=[]\n",
    "\n",
    "    for c in cnts:\n",
    "\n",
    "        if cv2.contourArea(c) < 2000 :\n",
    "            continue\n",
    "        x,y,w,h = cv2.boundingRect(c)\n",
    "        rectangles.append((x,y,w,h))\n",
    "\n",
    "    rectangles= rectangles[0:2]\n",
    "    if rectangles[0][0]>rectangles[1][0]:\n",
    "        rectangles= rectangles[::-1]\n",
    "    \n",
    "\n",
    "    print (rectangles)\n",
    "    img_sample= image_for_plot[rectangles[1][1]:rectangles[1][1]+rectangles[1][3],rectangles[1][0]:rectangles[1][0]+rectangles[1][2]]\n",
    "    img_sample_downsample= cv2.resize(img_sample,(32,32),interpolation=cv2.INTER_AREA)\n",
    "    #plt.figure(1,figsize=(20,20))\n",
    "    #plt.imshow(img_sample[:,:,::-1])   \n",
    "    return img_sample,img_sample_downsample"
   ]
  },
  {
   "cell_type": "code",
   "execution_count": null,
   "metadata": {},
   "outputs": [],
   "source": [
    "root = \"C:/Users/Brinda Khanal/Desktop/All images 2400/\"\n",
    "images = []\n",
    "filenames= ['IMG_403.jpg','IMG_409.jpg','IMG_418.jpg','IMG_429.jpg','IMG_441.jpg',\n",
    "            'IMG_452.jpg','IMG_459.jpg','IMG_470.jpg','IMG_476.jpg','IMG_488.jpg' ]\n",
    "for img_name in filenames:\n",
    "    print (root+img_name)\n",
    "    image = cv2.imread(root+img_name)\n",
    "    img_sample,img_sample_downsample= segment_image(image)\n",
    "    images.append(img_sample)\n",
    "    \n"
   ]
  },
  {
   "cell_type": "code",
   "execution_count": null,
   "metadata": {},
   "outputs": [],
   "source": [
    "def load_RGB_food_color():\n",
    "    \n",
    "    # load RGB channel data\n",
    "    data= pd.read_pickle('C:/Users/Brinda Khanal/Documents/Bidur Git Repo/padColorimetry/Data/new data/downsampled_image_HSV_32_2400_inner_circle.pkl')\n",
    "    #replace_values= { 1:11, 2 : 11, 3 : 11, 4 : 11, 5 : 12, 6 : 12 , 7 : 12, 8 : 13, 9 : 13, 10 : 13} # fuse the labels\n",
    "    #replace_values= { 1:11, 2 : 11, 3 : 11, 4 : 11, 5 : 12, 6 : 12 , 7 : 13, 8 : 13, 9 : 14, 10 : 14} # fuse the labels\n",
    "    #data.replace({'Dilution Factor' : replace_values}, inplace = True)\n",
    "    \n",
    "    # encode the label values into integer type\n",
    "    #lab_enc = preprocessing.LabelEncoder()\n",
    "    #Label = lab_enc.fit_transform(data['Dilution Factor'])\n",
    "    Label= data['Dilution Factor'].values\n",
    "    print(data['Dilution Factor'])\n",
    "    \n",
    "    feature_vector = data['Feature Vector']\n",
    "    features=[]\n",
    "    for f in feature_vector:\n",
    "        f = np.split(f, 2,axis=2)[1]\n",
    "        features.append(f)\n",
    "    features = np.array(features)\n",
    "    features = np.reshape(features,(features.shape[0],-1))\n",
    "    print (features.shape)\n",
    "    return Label, features\n",
    "\n",
    "\n",
    "label,image=load_RGB_food_color()\n",
    "concentration_label =np.arange(1,11)\n",
    "\n",
    "grouped_images= [image[label==i] for i in concentration_label]\n",
    "flattened=[np.concatenate(groups) for groups in grouped_images] \n",
    "\n",
    "flattened_grouped=[np.reshape(groups, (-1, 128, 3)) for groups in flattened] \n",
    "_flattened_= np.reshape(flattened[0], (-1, 32, 3)) \n",
    "\n",
    "#print (flattened[0].shape)\n",
    "plt.figure(1,figsize=(20,20))\n",
    "plt.imshow(_flattened_[:,:,::-1])\n",
    "plt.imshow(image)\n",
    "\n",
    "\n"
   ]
  },
  {
   "cell_type": "code",
   "execution_count": null,
   "metadata": {},
   "outputs": [],
   "source": [
    "def load_RGB_pesticide():\n",
    "    \n",
    "    # load RGB channel data\n",
    "    data= pd.read_pickle('C:/Users/Brinda Khanal/Documents/Bidur Git Repo/padColorimetry/Data/new data/downsampled_image_HSV_32_pesticide_train_inner_circle.pkl')\n",
    "    #replace_values= { 1:11, 2 : 11, 3 : 11, 4 : 11, 5 : 12, 6 : 12 , 7 : 12, 8 : 13, 9 : 13, 10 : 13} # fuse the labels\n",
    "    #replace_values= { 1:11, 2 : 11, 3 : 11, 4 : 11, 5 : 12, 6 : 12 , 7 : 13, 8 : 13, 9 : 14, 10 : 14} # fuse the labels\n",
    "    #data.replace({'Dilution Factor' : replace_values}, inplace = True)\n",
    "    \n",
    "    # encode the label values into integer type\n",
    "    #lab_enc = preprocessing.LabelEncoder()\n",
    "    #Label = lab_enc.fit_transform(data['Dilution Factor'])\n",
    "    Label= data['Dilution Factor'].values\n",
    "    print(data['Dilution Factor'])\n",
    "    \n",
    "    feature_vector = data['Feature Vector']\n",
    "    features=[]\n",
    "    for f in feature_vector:\n",
    "        f = np.split(f, 2,axis=2)[1]\n",
    "        features.append(f)\n",
    "    features = np.array(features)\n",
    "    features = np.reshape(features,(features.shape[0],-1))\n",
    "    print (features.shape)\n",
    "    return Label, features\n",
    "\n",
    "\n",
    "label,image=load_RGB_pesticide()\n",
    "concentration_label =np.arange(1,11)\n",
    "\n",
    "grouped_images= [image[label==i] for i in concentration_label]\n",
    "flattened=[np.concatenate(groups) for groups in grouped_images] \n",
    "flattened_grouped_pesticide=[np.reshape(groups, (-1, 128, 3)) for groups in flattened] \n",
    "_flattened_= np.reshape(flattened[0], (-1, 32, 3)) \n",
    "plt.figure(1,figsize=(20,20))\n",
    "plt.imshow(_flattened_[:,:,::-1])\n"
   ]
  },
  {
   "cell_type": "code",
   "execution_count": 44,
   "metadata": {},
   "outputs": [
    {
     "data": {
      "image/png": "[encoded data removed]",
      "text/plain": [
       "<Figure size 1080x432 with 10 Axes>"
      ]
     },
     "metadata": {},
     "output_type": "display_data"
    }
   ],
   "source": [
    "from skimage import io\n",
    "import matplotlib.pyplot as plt\n",
    "\n",
    "\n",
    "fig, axs = plt.subplots(2,5, figsize=(15, 6), facecolor='w', edgecolor='k')\n",
    "fig.subplots_adjust(hspace = .5, wspace=.001)\n",
    "fig.suptitle('Histogram Analysis')\n",
    "axs = axs.ravel()\n",
    "\n",
    "for i,img in enumerate(flattened_grouped):\n",
    "    axs[i].set_ylim([0, 2000])\n",
    "    #axs[i].hist(img.ravel(), bins = 256, color = 'orange', )\n",
    "    #axs[i].hist(img[:, :, 0].ravel(), bins = 256, color = 'red', alpha = 0.5)\n",
    "    axs[i].hist(img[:, :, 1].ravel(), bins = 256, color = 'Green', alpha = 0.5)\n",
    "    #axs[i].hist(img[:, :, 2].ravel(), bins = 256, color = 'Blue', alpha = 0.5)\n",
    "\n",
    "\n",
    "plt.show()\n",
    "\n"
   ]
  },
  {
   "cell_type": "code",
   "execution_count": 39,
   "metadata": {},
   "outputs": [
    {
     "data": {
      "image/png": "[encoded data removed]",
      "text/plain": [
       "<Figure size 1080x432 with 10 Axes>"
      ]
     },
     "metadata": {},
     "output_type": "display_data"
    }
   ],
   "source": [
    "from skimage import io\n",
    "import matplotlib.pyplot as plt\n",
    "\n",
    "\n",
    "fig, axs = plt.subplots(2,5, figsize=(15, 6), facecolor='w', edgecolor='k')\n",
    "fig.subplots_adjust(hspace = .5, wspace=.001)\n",
    "fig.suptitle('Histogram Analysis')\n",
    "axs = axs.ravel()\n",
    "\n",
    "for i,img in enumerate(flattened_grouped_pesticide):\n",
    "    axs[i].set_ylim([0, 2000])\n",
    "    #axs[i].hist(img.ravel(), bins = 256, color = 'orange', )\n",
    "    #axs[i].hist(img[:, :, 0].ravel(), bins = 256, color = 'red', alpha = 0.5)\n",
    "    axs[i].hist(img[:, :, 1].ravel(), bins = 256, color = 'Green', alpha = 0.5)\n",
    "    #axs[i].hist(img[:, :, 2].ravel(), bins = 256, color = 'Blue', alpha = 0.5)\n",
    "\n",
    "\n",
    "plt.show()\n"
   ]
  }
 ],
 "metadata": {
  "kernelspec": {
   "display_name": "Python 3",
   "language": "python",
   "name": "python3"
  },
  "language_info": {
   "codemirror_mode": {
    "name": "ipython",
    "version": 3
   },
   "file_extension": ".py",
   "mimetype": "text/x-python",
   "name": "python",
   "nbconvert_exporter": "python",
   "pygments_lexer": "ipython3",
   "version": "3.7.3"
  }
 },
 "nbformat": 4,
 "nbformat_minor": 2
}
